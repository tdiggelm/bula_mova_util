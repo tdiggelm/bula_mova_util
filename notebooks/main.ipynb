{
 "cells": [
  {
   "cell_type": "markdown",
   "id": "62ad4651-b551-4410-8a6f-e9f9b25e98e1",
   "metadata": {},
   "source": [
    "# README\n",
    "\n",
    "This notebook is used to run data export tasks."
   ]
  },
  {
   "cell_type": "code",
   "execution_count": 5,
   "id": "2dd0e1f2-be29-4e59-a160-864611bc834a",
   "metadata": {},
   "outputs": [
    {
     "name": "stdout",
     "output_type": "stream",
     "text": [
      "Exporting files: 84it [00:03, 26.82it/s]\n"
     ]
    }
   ],
   "source": [
    "main_file = \"../data/Staff Planning - master for DB support.xlsx\"\n",
    "output_dir = \"./events_per_person\"\n",
    "\n",
    "! python \"../scripts/export-events-per-person.py\" \"{main_file}\" \"{output_dir}\""
   ]
  },
  {
   "cell_type": "code",
   "execution_count": null,
   "id": "8fe5098c-a895-4ba0-8f14-adbe91cfc3e7",
   "metadata": {},
   "outputs": [],
   "source": []
  }
 ],
 "metadata": {
  "kernelspec": {
   "display_name": "Python 3 (ipykernel)",
   "language": "python",
   "name": "python3"
  },
  "language_info": {
   "codemirror_mode": {
    "name": "ipython",
    "version": 3
   },
   "file_extension": ".py",
   "mimetype": "text/x-python",
   "name": "python",
   "nbconvert_exporter": "python",
   "pygments_lexer": "ipython3",
   "version": "3.8.11"
  }
 },
 "nbformat": 4,
 "nbformat_minor": 5
}
